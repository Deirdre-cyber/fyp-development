{
 "cells": [
  {
   "cell_type": "markdown",
   "metadata": {},
   "source": [
    "# Create and Train Model"
   ]
  },
  {
   "cell_type": "code",
   "execution_count": 17,
   "metadata": {},
   "outputs": [],
   "source": [
    "import os\n",
    "\n",
    "import numpy as np\n",
    "import tensorflow as tf\n",
    "from tensorflow.keras import layers, models\n",
    "from sklearn.preprocessing import LabelEncoder, OneHotEncoder\n",
    "\n",
    "import config\n",
    "from data_loading import load_data_from_dir\n"
   ]
  },
  {
   "cell_type": "markdown",
   "metadata": {},
   "source": [
    "### Load the Features previously extracted as part of main.py"
   ]
  },
  {
   "cell_type": "code",
   "execution_count": 18,
   "metadata": {},
   "outputs": [],
   "source": [
    "wav_mfccs_dir = config.TRAIN_WAV_MFCCS\n",
    "lms_mfccs_dir = config.TRAIN_LMS_MFCCS\n",
    "\n",
    "wav_mfccs_list = []\n",
    "wav_labels_list = []\n",
    "\n",
    "for file_name in os.listdir(wav_mfccs_dir):\n",
    "    if file_name.endswith('.npy'):\n",
    "        mfccs = np.load(os.path.join(wav_mfccs_dir, file_name))\n",
    "        wav_mfccs_list.append(mfccs)\n",
    "        \n",
    "        label = file_name.split('_')[0]\n",
    "        wav_labels_list.append(label)\n",
    "\n",
    "lms_mfccs_list = []\n",
    "lms_labels_list = []\n",
    "\n",
    "for file_name in os.listdir(lms_mfccs_dir):\n",
    "    if file_name.endswith('.npy'):\n",
    "        mfccs = np.load(os.path.join(lms_mfccs_dir, file_name))\n",
    "        lms_mfccs_list.append(mfccs)\n",
    "        \n",
    "        label = file_name.split('_')[0]\n",
    "        lms_labels_list.append(label)\n",
    "\n"
   ]
  },
  {
   "cell_type": "markdown",
   "metadata": {},
   "source": [
    "Check shape match"
   ]
  },
  {
   "cell_type": "code",
   "execution_count": 19,
   "metadata": {},
   "outputs": [
    {
     "name": "stdout",
     "output_type": "stream",
     "text": [
      "(40, 775)\n",
      "(40, 775)\n"
     ]
    }
   ],
   "source": [
    "print(wav_mfccs_list[0].shape)\n",
    "print(lms_mfccs_list[0].shape)\n"
   ]
  },
  {
   "cell_type": "markdown",
   "metadata": {},
   "source": [
    "### Load the Previously Split Directories\n",
    "\n",
    "Store feature files into tes, val, and train"
   ]
  },
  {
   "cell_type": "markdown",
   "metadata": {},
   "source": [
    "### Load Training"
   ]
  },
  {
   "cell_type": "code",
   "execution_count": 20,
   "metadata": {},
   "outputs": [],
   "source": [
    "train_dirs = [config.TRAIN_WAV_MFCCS, config.TRAIN_AUG_WAV_MFCCS]\n",
    "#train_dirs = [config.TRAIN_LMS_MFCCS, config.TRAIN_AUG_LMS_MFCCS]\n",
    "\n",
    "X_train = []\n",
    "y_train = []\n",
    "\n",
    "for train_dir in train_dirs:\n",
    "    for file_name in os.listdir(train_dir):\n",
    "        if file_name.endswith('.npy'):\n",
    "            file_path = os.path.join(train_dir, file_name)\n",
    "            mfccs = np.load(file_path)\n",
    "            X_train.append(mfccs)\n",
    "            label = file_name.split('.npy')[0]\n",
    "            y_train.append(label)\n",
    "\n",
    "X_train = np.array(X_train)\n",
    "y_train = np.array(y_train)\n"
   ]
  },
  {
   "cell_type": "code",
   "execution_count": 21,
   "metadata": {},
   "outputs": [
    {
     "data": {
      "text/plain": [
       "((1717, 40, 775), (1717,))"
      ]
     },
     "execution_count": 21,
     "metadata": {},
     "output_type": "execute_result"
    }
   ],
   "source": [
    "X_train.shape, y_train.shape"
   ]
  },
  {
   "cell_type": "markdown",
   "metadata": {},
   "source": [
    "### Load Testing"
   ]
  },
  {
   "cell_type": "code",
   "execution_count": 22,
   "metadata": {},
   "outputs": [],
   "source": [
    "test_dirs = [config.TEST_WAV_MFCCS]\n",
    "#test_dirs = [config.TEST_LMS_MFCCS]\n",
    "\n",
    "X_test = []\n",
    "y_test = []\n",
    "\n",
    "for test_dir in test_dirs:\n",
    "    for file_name in os.listdir(test_dir):\n",
    "        if file_name.endswith('.npy'):\n",
    "            file_path = os.path.join(test_dir, file_name)\n",
    "            mfccs = np.load(file_path)\n",
    "            X_test.append(mfccs)\n",
    "            label = file_name.split('.npy')[0]\n",
    "            y_test.append(label)\n",
    "\n",
    "X_test = np.array(X_test)\n",
    "y_test = np.array(y_test)\n"
   ]
  },
  {
   "cell_type": "code",
   "execution_count": 23,
   "metadata": {},
   "outputs": [
    {
     "data": {
      "text/plain": [
       "((216, 40, 775), (216,))"
      ]
     },
     "execution_count": 23,
     "metadata": {},
     "output_type": "execute_result"
    }
   ],
   "source": [
    "X_test.shape, y_test.shape"
   ]
  },
  {
   "cell_type": "markdown",
   "metadata": {},
   "source": [
    "### Load Validation"
   ]
  },
  {
   "cell_type": "code",
   "execution_count": 24,
   "metadata": {},
   "outputs": [],
   "source": [
    "val_dirs = [config.VAL_WAV_MFCCS]\n",
    "#val_dirs = [config.VAL_LMS_MFCCS]\n",
    "\n",
    "X_val = []\n",
    "y_val = []\n",
    "\n",
    "for val_dir in val_dirs:\n",
    "    for file_name in os.listdir(val_dir):\n",
    "        if file_name.endswith('.npy'):\n",
    "            file_path = os.path.join(val_dir, file_name)\n",
    "            mfccs = np.load(file_path)\n",
    "            X_val.append(mfccs)\n",
    "            label = file_name.split('.npy')[0]\n",
    "            y_val.append(label)\n",
    "\n",
    "X_val = np.array(X_val)\n",
    "y_val = np.array(y_val)\n"
   ]
  },
  {
   "cell_type": "code",
   "execution_count": 25,
   "metadata": {},
   "outputs": [
    {
     "data": {
      "text/plain": [
       "((184, 40, 775), (184,))"
      ]
     },
     "execution_count": 25,
     "metadata": {},
     "output_type": "execute_result"
    }
   ],
   "source": [
    "X_val.shape, y_val.shape"
   ]
  },
  {
   "cell_type": "markdown",
   "metadata": {},
   "source": [
    "### Define the model"
   ]
  },
  {
   "cell_type": "markdown",
   "metadata": {},
   "source": [
    "Get number of classes from filename"
   ]
  },
  {
   "cell_type": "code",
   "execution_count": 26,
   "metadata": {},
   "outputs": [
    {
     "name": "stdout",
     "output_type": "stream",
     "text": [
      "Number of classes (emotions): 8\n"
     ]
    }
   ],
   "source": [
    "filenames, labels = load_data_from_dir(config.WAV_DIR_PATH)\n",
    "\n",
    "emotion_labels = [filename.split('-')[2] for filename in filenames] # based on filename identifiers https://www.kaggle.com/datasets/uwrfkaggler/ravdess-emotional-speech-audio\n",
    "\n",
    "num_classes = len(np.unique(emotion_labels))\n",
    "\n",
    "print(\"Number of classes (emotions):\", num_classes)"
   ]
  },
  {
   "cell_type": "code",
   "execution_count": 33,
   "metadata": {},
   "outputs": [],
   "source": [
    "X_train_reshaped = X_train.reshape(X_train.shape[0], X_train.shape[1], X_train.shape[2], 1)\n",
    "\n",
    "model = models.Sequential([\n",
    "    layers.Input(shape=X_train_reshaped.shape[1:]),\n",
    "    layers.Conv2D(32, (3, 3), activation='relu'),\n",
    "    layers.BatchNormalization(),\n",
    "    layers.MaxPooling2D((2, 2)),\n",
    "    layers.Conv2D(64, (3, 3), activation='relu'),\n",
    "    layers.MaxPooling2D((2, 2)),\n",
    "    layers.Conv2D(128, (3, 3), activation='relu'),\n",
    "    layers.MaxPooling2D((2, 2)),\n",
    "    layers.Flatten(),\n",
    "    layers.Dense(128, activation='relu'),\n",
    "    layers.Dense(num_classes, activation='softmax')\n",
    "])\n"
   ]
  },
  {
   "cell_type": "markdown",
   "metadata": {},
   "source": [
    "### Compile the Model"
   ]
  },
  {
   "cell_type": "code",
   "execution_count": 28,
   "metadata": {},
   "outputs": [],
   "source": [
    "model.compile(optimizer='adam',\n",
    "              loss='categorical_crossentropy',\n",
    "              metrics=['accuracy'])"
   ]
  },
  {
   "cell_type": "markdown",
   "metadata": {},
   "source": [
    "### Need to Encode the Labels as they are String Data"
   ]
  },
  {
   "cell_type": "code",
   "execution_count": 29,
   "metadata": {},
   "outputs": [],
   "source": [
    "# extract emotion labels from filenames\n",
    "emotions = [label.split('-')[2] for label in y_train]\n",
    "\n",
    "label_encoder = LabelEncoder()\n",
    "emotions_encoded = label_encoder.fit_transform(emotions)\n",
    "emotions_encoded = emotions_encoded.reshape(-1, 1)\n",
    "\n",
    "encoder = OneHotEncoder(categories='auto', sparse_output=False) # try sparse true\n",
    "y_train_encoded = encoder.fit_transform(emotions_encoded)\n",
    "\n",
    "y_test_encoded = encoder.transform(label_encoder.transform([label.split('-')[2] for label in y_test]).reshape(-1, 1))\n",
    "y_val_encoded = encoder.transform(label_encoder.transform([label.split('-')[2] for label in y_val]).reshape(-1, 1))\n"
   ]
  },
  {
   "cell_type": "code",
   "execution_count": 30,
   "metadata": {},
   "outputs": [
    {
     "name": "stdout",
     "output_type": "stream",
     "text": [
      "['01' '02' '03' '04' '05' '06' '07' '08']\n"
     ]
    }
   ],
   "source": [
    "print(np.unique(emotions))"
   ]
  },
  {
   "cell_type": "markdown",
   "metadata": {},
   "source": [
    "Train a model using waveforms and another using spectrgrams and compare"
   ]
  },
  {
   "cell_type": "markdown",
   "metadata": {},
   "source": [
    "### Train the Model"
   ]
  },
  {
   "cell_type": "markdown",
   "metadata": {},
   "source": [
    "* train only wav first\n",
    "* then train spectrogram\n",
    "* compare results from model, enhance better performing"
   ]
  },
  {
   "cell_type": "code",
   "execution_count": 31,
   "metadata": {},
   "outputs": [
    {
     "name": "stdout",
     "output_type": "stream",
     "text": [
      "Epoch 1/10\n",
      "\u001b[1m54/54\u001b[0m \u001b[32m━━━━━━━━━━━━━━━━━━━━\u001b[0m\u001b[37m\u001b[0m \u001b[1m52s\u001b[0m 900ms/step - accuracy: 0.1434 - loss: 16.9391 - val_accuracy: 0.0870 - val_loss: 2.0791\n",
      "Epoch 2/10\n",
      "\u001b[1m54/54\u001b[0m \u001b[32m━━━━━━━━━━━━━━━━━━━━\u001b[0m\u001b[37m\u001b[0m \u001b[1m47s\u001b[0m 861ms/step - accuracy: 0.1607 - loss: 2.0595 - val_accuracy: 0.0978 - val_loss: 2.0697\n",
      "Epoch 3/10\n",
      "\u001b[1m54/54\u001b[0m \u001b[32m━━━━━━━━━━━━━━━━━━━━\u001b[0m\u001b[37m\u001b[0m \u001b[1m51s\u001b[0m 947ms/step - accuracy: 0.2053 - loss: 2.0284 - val_accuracy: 0.3098 - val_loss: 1.9861\n",
      "Epoch 4/10\n",
      "\u001b[1m54/54\u001b[0m \u001b[32m━━━━━━━━━━━━━━━━━━━━\u001b[0m\u001b[37m\u001b[0m \u001b[1m47s\u001b[0m 861ms/step - accuracy: 0.2293 - loss: 1.9729 - val_accuracy: 0.2337 - val_loss: 1.9076\n",
      "Epoch 5/10\n",
      "\u001b[1m54/54\u001b[0m \u001b[32m━━━━━━━━━━━━━━━━━━━━\u001b[0m\u001b[37m\u001b[0m \u001b[1m49s\u001b[0m 913ms/step - accuracy: 0.2588 - loss: 1.8623 - val_accuracy: 0.2500 - val_loss: 1.8949\n",
      "Epoch 6/10\n",
      "\u001b[1m54/54\u001b[0m \u001b[32m━━━━━━━━━━━━━━━━━━━━\u001b[0m\u001b[37m\u001b[0m \u001b[1m46s\u001b[0m 850ms/step - accuracy: 0.3286 - loss: 1.7694 - val_accuracy: 0.3261 - val_loss: 1.7626\n",
      "Epoch 7/10\n",
      "\u001b[1m54/54\u001b[0m \u001b[32m━━━━━━━━━━━━━━━━━━━━\u001b[0m\u001b[37m\u001b[0m \u001b[1m50s\u001b[0m 938ms/step - accuracy: 0.3782 - loss: 1.6647 - val_accuracy: 0.2772 - val_loss: 1.8232\n",
      "Epoch 8/10\n",
      "\u001b[1m54/54\u001b[0m \u001b[32m━━━━━━━━━━━━━━━━━━━━\u001b[0m\u001b[37m\u001b[0m \u001b[1m55s\u001b[0m 1s/step - accuracy: 0.4144 - loss: 1.5454 - val_accuracy: 0.3261 - val_loss: 1.7729\n",
      "Epoch 9/10\n",
      "\u001b[1m54/54\u001b[0m \u001b[32m━━━━━━━━━━━━━━━━━━━━\u001b[0m\u001b[37m\u001b[0m \u001b[1m56s\u001b[0m 1s/step - accuracy: 0.5028 - loss: 1.3679 - val_accuracy: 0.3859 - val_loss: 1.7145\n",
      "Epoch 10/10\n",
      "\u001b[1m54/54\u001b[0m \u001b[32m━━━━━━━━━━━━━━━━━━━━\u001b[0m\u001b[37m\u001b[0m \u001b[1m55s\u001b[0m 1s/step - accuracy: 0.5047 - loss: 1.3029 - val_accuracy: 0.3587 - val_loss: 1.7929\n"
     ]
    }
   ],
   "source": [
    "X_val_reshaped = X_val.reshape(X_val.shape[0], X_val.shape[1], X_val.shape[2], 1)\n",
    "\n",
    "history = model.fit(X_train_reshaped, y_train_encoded,\n",
    "                    epochs=10, \n",
    "                    batch_size=32,\n",
    "                    validation_data=(X_val_reshaped, y_val_encoded)) \n"
   ]
  },
  {
   "cell_type": "markdown",
   "metadata": {},
   "source": [
    "When provided feature data from both spectrogram and waveform, validation accuracy and loss seem to fluctuate, might suggest overfitting or insufficient generalistion to the validation set"
   ]
  },
  {
   "cell_type": "markdown",
   "metadata": {},
   "source": [
    "two models, one to train with wav the other spectrgrams. Then compare on improve the better model. Document!"
   ]
  },
  {
   "cell_type": "code",
   "execution_count": null,
   "metadata": {},
   "outputs": [],
   "source": []
  },
  {
   "cell_type": "code",
   "execution_count": null,
   "metadata": {},
   "outputs": [],
   "source": []
  },
  {
   "cell_type": "markdown",
   "metadata": {},
   "source": [
    "### Evaluate Model"
   ]
  },
  {
   "cell_type": "code",
   "execution_count": 32,
   "metadata": {},
   "outputs": [
    {
     "name": "stdout",
     "output_type": "stream",
     "text": [
      "\u001b[1m7/7\u001b[0m \u001b[32m━━━━━━━━━━━━━━━━━━━━\u001b[0m\u001b[37m\u001b[0m \u001b[1m2s\u001b[0m 219ms/step - accuracy: 0.4493 - loss: 1.6090\n",
      "Test accuracy: 0.4027777910232544\n"
     ]
    }
   ],
   "source": [
    "# Evaluate the model\n",
    "X_test_reshaped = X_test.reshape(X_test.shape[0], X_test.shape[1], X_test.shape[2], 1)\n",
    "\n",
    "test_loss, test_accuracy = model.evaluate(X_test_reshaped, y_test_encoded)\n",
    "print('Test accuracy:', test_accuracy)"
   ]
  }
 ],
 "metadata": {
  "kernelspec": {
   "display_name": "Python 3",
   "language": "python",
   "name": "python3"
  },
  "language_info": {
   "codemirror_mode": {
    "name": "ipython",
    "version": 3
   },
   "file_extension": ".py",
   "mimetype": "text/x-python",
   "name": "python",
   "nbconvert_exporter": "python",
   "pygments_lexer": "ipython3",
   "version": "3.12.0"
  }
 },
 "nbformat": 4,
 "nbformat_minor": 2
}
