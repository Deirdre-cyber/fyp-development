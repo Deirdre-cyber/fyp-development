{
 "cells": [
  {
   "cell_type": "markdown",
   "metadata": {},
   "source": [
    "# Create and Train Model"
   ]
  },
  {
   "cell_type": "code",
   "execution_count": 2,
   "metadata": {},
   "outputs": [],
   "source": [
    "import numpy as np\n",
    "import config\n",
    "import os"
   ]
  },
  {
   "cell_type": "code",
   "execution_count": 3,
   "metadata": {},
   "outputs": [],
   "source": [
    "wav_mfccs_dir = config.WAV_MFCCS\n",
    "lms_mfccs_dir = config.LMS_MFCCS\n",
    "\n",
    "wav_mfccs_list = []\n",
    "wav_labels_list = []\n",
    "\n",
    "for file_name in os.listdir(wav_mfccs_dir):\n",
    "    if file_name.endswith('.npy'):\n",
    "        mfccs = np.load(os.path.join(wav_mfccs_dir, file_name))\n",
    "        wav_mfccs_list.append(mfccs)\n",
    "        \n",
    "        label = file_name.split('_')[0]\n",
    "        wav_labels_list.append(label)\n",
    "\n",
    "lms_mfccs_list = []\n",
    "lms_labels_list = []\n",
    "\n",
    "for file_name in os.listdir(lms_mfccs_dir):\n",
    "    if file_name.endswith('.npy'):\n",
    "        mfccs = np.load(os.path.join(lms_mfccs_dir, file_name))\n",
    "        lms_mfccs_list.append(mfccs)\n",
    "        \n",
    "        label = file_name.split('_')[0]\n",
    "        lms_labels_list.append(label)\n",
    "\n"
   ]
  },
  {
   "cell_type": "code",
   "execution_count": 4,
   "metadata": {},
   "outputs": [
    {
     "name": "stdout",
     "output_type": "stream",
     "text": [
      "(40, 119)\n",
      "(40, 775)\n"
     ]
    }
   ],
   "source": [
    "print(wav_mfccs_list[0].shape)\n",
    "print(lms_mfccs_list[0].shape)\n"
   ]
  },
  {
   "cell_type": "code",
   "execution_count": 6,
   "metadata": {},
   "outputs": [
    {
     "ename": "NameError",
     "evalue": "name 'X' is not defined",
     "output_type": "error",
     "traceback": [
      "\u001b[1;31m---------------------------------------------------------------------------\u001b[0m",
      "\u001b[1;31mNameError\u001b[0m                                 Traceback (most recent call last)",
      "Cell \u001b[1;32mIn [6], line 3\u001b[0m\n\u001b[0;32m      1\u001b[0m \u001b[38;5;28;01mfrom\u001b[39;00m \u001b[38;5;21;01msklearn\u001b[39;00m\u001b[38;5;21;01m.\u001b[39;00m\u001b[38;5;21;01mmodel_selection\u001b[39;00m \u001b[38;5;28;01mimport\u001b[39;00m train_test_split\n\u001b[1;32m----> 3\u001b[0m X_train, X_test, y_train, y_test \u001b[38;5;241m=\u001b[39m train_test_split(\u001b[43mX\u001b[49m, y, test_size\u001b[38;5;241m=\u001b[39m\u001b[38;5;241m0.2\u001b[39m, random_state\u001b[38;5;241m=\u001b[39m\u001b[38;5;241m42\u001b[39m)\n",
      "\u001b[1;31mNameError\u001b[0m: name 'X' is not defined"
     ]
    }
   ],
   "source": [
    "from sklearn.model_selection import train_test_split\n",
    "\n",
    "X_train, X_test, y_train, y_test = train_test_split(X, y, test_size=0.2, random_state=42)\n"
   ]
  }
 ],
 "metadata": {
  "kernelspec": {
   "display_name": "Python 3",
   "language": "python",
   "name": "python3"
  },
  "language_info": {
   "codemirror_mode": {
    "name": "ipython",
    "version": 3
   },
   "file_extension": ".py",
   "mimetype": "text/x-python",
   "name": "python",
   "nbconvert_exporter": "python",
   "pygments_lexer": "ipython3",
   "version": "3.11.5"
  }
 },
 "nbformat": 4,
 "nbformat_minor": 2
}
